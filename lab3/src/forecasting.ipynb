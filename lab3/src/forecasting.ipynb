{
 "cells": [
  {
   "cell_type": "code",
   "execution_count": null,
   "id": "initial_id",
   "metadata": {
    "collapsed": true
   },
   "outputs": [],
   "source": [
    ""
   ]
  },
  {
   "metadata": {},
   "cell_type": "code",
   "outputs": [],
   "execution_count": null,
   "source": [
    "import torch\n",
    "from torch_geometric.datasets import Planetoid\n",
    "from torch_geometric.utils import negative_sampling, train_test_split_edges\n",
    "\n",
    "def load_and_split_edges():\n",
    "    dataset = Planetoid(root='/tmp/Cora', name='Cora')\n",
    "    data = dataset[0]\n",
    "\n",
    "    # 使用 PyG 的 train_test_split_edges 分割边\n",
    "    data = train_test_split_edges(data)\n",
    "\n",
    "    # 正样本：从 data.train_pos_edge_index, data.val_pos_edge_index, 和 data.test_pos_edge_index 中获取\n",
    "    # 负样本：可以使用 negative_sampling 生成\n",
    "    train_neg = negative_sampling(\n",
    "        edge_index=data.train_pos_edge_index,\n",
    "        num_nodes=data.num_nodes,\n",
    "        num_neg_samples=data.train_pos_edge_index.size(1))\n",
    "\n",
    "    val_neg = negative_sampling(\n",
    "        edge_index=data.val_pos_edge_index,\n",
    "        num_nodes=data.num_nodes,\n",
    "        num_neg_samples=data.val_pos_edge_index.size(1))\n",
    "\n",
    "    test_neg = negative_sampling(\n",
    "        edge_index=data.test_pos_edge_index,\n",
    "        num_nodes=data.num_nodes,\n",
    "        num_neg_samples=data.test_pos_edge_index.size(1))\n",
    "\n",
    "    return data, train_neg, val_neg, test_neg\n",
    "\n",
    "data, train_neg, val_neg, test_neg = load_and_split_edges()\n"
   ],
   "id": "27ed4660f73c6fdb"
  }
 ],
 "metadata": {
  "kernelspec": {
   "display_name": "Python 3",
   "language": "python",
   "name": "python3"
  },
  "language_info": {
   "codemirror_mode": {
    "name": "ipython",
    "version": 2
   },
   "file_extension": ".py",
   "mimetype": "text/x-python",
   "name": "python",
   "nbconvert_exporter": "python",
   "pygments_lexer": "ipython2",
   "version": "2.7.6"
  }
 },
 "nbformat": 4,
 "nbformat_minor": 5
}
